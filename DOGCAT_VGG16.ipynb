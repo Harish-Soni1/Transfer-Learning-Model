{
  "nbformat": 4,
  "nbformat_minor": 0,
  "metadata": {
    "kernelspec": {
      "display_name": "Python 3",
      "language": "python",
      "name": "python3"
    },
    "language_info": {
      "codemirror_mode": {
        "name": "ipython",
        "version": 3
      },
      "file_extension": ".py",
      "mimetype": "text/x-python",
      "name": "python",
      "nbconvert_exporter": "python",
      "pygments_lexer": "ipython3",
      "version": "3.7.5"
    },
    "colab": {
      "name": "DOGCAT_VGG16.ipynb",
      "provenance": []
    },
    "accelerator": "GPU"
  },
  "cells": [
    {
      "cell_type": "markdown",
      "metadata": {
        "id": "ikUd3ArChs1a"
      },
      "source": [
        "## Transfer Learning VGG 16 and VGG 19 using Keras"
      ]
    },
    {
      "cell_type": "markdown",
      "metadata": {
        "id": "1NsJf42ghs1c"
      },
      "source": [
        "Please download the dataset from the below url"
      ]
    },
    {
      "cell_type": "code",
      "metadata": {
        "colab": {
          "base_uri": "https://localhost:8080/"
        },
        "id": "-77DMykahs1d",
        "outputId": "1a84b860-7e76-4e81-d71d-9fc40bf49f7a"
      },
      "source": [
        "import tensorflow as tf \n",
        "\n",
        "if tf.test.gpu_device_name(): \n",
        "    \n",
        "\n",
        "    print('Default GPU Device:{}'.format(tf.test.gpu_device_name()))\n",
        "\n",
        "else:\n",
        "\n",
        "    print(\"Please install GPU version of TF\")"
      ],
      "execution_count": 2,
      "outputs": [
        {
          "output_type": "stream",
          "text": [
            "Default GPU Device:/device:GPU:0\n"
          ],
          "name": "stdout"
        }
      ]
    },
    {
      "cell_type": "code",
      "metadata": {
        "colab": {
          "base_uri": "https://localhost:8080/",
          "height": 35
        },
        "id": "Ajp7xj8Ths1e",
        "outputId": "256bb9a8-6d46-426e-c0f8-cebdcf0ed732"
      },
      "source": [
        "tf.test.gpu_device_name()"
      ],
      "execution_count": 3,
      "outputs": [
        {
          "output_type": "execute_result",
          "data": {
            "application/vnd.google.colaboratory.intrinsic+json": {
              "type": "string"
            },
            "text/plain": [
              "'/device:GPU:0'"
            ]
          },
          "metadata": {
            "tags": []
          },
          "execution_count": 3
        }
      ]
    },
    {
      "cell_type": "code",
      "metadata": {
        "colab": {
          "base_uri": "https://localhost:8080/",
          "height": 35
        },
        "id": "zDyirn5Rhs1e",
        "outputId": "562f905b-6ffe-42dd-bd9e-5b7db0dda9b2"
      },
      "source": [
        "tf.__version__"
      ],
      "execution_count": 4,
      "outputs": [
        {
          "output_type": "execute_result",
          "data": {
            "application/vnd.google.colaboratory.intrinsic+json": {
              "type": "string"
            },
            "text/plain": [
              "'2.4.0'"
            ]
          },
          "metadata": {
            "tags": []
          },
          "execution_count": 4
        }
      ]
    },
    {
      "cell_type": "code",
      "metadata": {
        "id": "Na0eq5sxhs1f"
      },
      "source": [
        "# import the libraries as shown below\n",
        "\n",
        "from tensorflow.keras.layers import Input, Lambda, Dense, Flatten\n",
        "from tensorflow.keras.models import Model\n",
        "from tensorflow.keras.applications.vgg16 import VGG16\n",
        "from tensorflow.keras.applications.vgg16 import preprocess_input\n",
        "from tensorflow.keras.preprocessing import image\n",
        "from tensorflow.keras.preprocessing.image import ImageDataGenerator,load_img\n",
        "from tensorflow.keras.models import Sequential\n",
        "import numpy as np\n",
        "from glob import glob\n"
      ],
      "execution_count": 5,
      "outputs": []
    },
    {
      "cell_type": "code",
      "metadata": {
        "colab": {
          "base_uri": "https://localhost:8080/"
        },
        "id": "18MenymfatfI",
        "outputId": "0e15b732-0593-4ffa-db8c-5e8fbad8fd12"
      },
      "source": [
        "from google.colab import drive\r\n",
        "\r\n",
        "drive.mount('/content/gdrive')"
      ],
      "execution_count": 6,
      "outputs": [
        {
          "output_type": "stream",
          "text": [
            "Mounted at /content/gdrive\n"
          ],
          "name": "stdout"
        }
      ]
    },
    {
      "cell_type": "code",
      "metadata": {
        "id": "XMnUpblEhs1f"
      },
      "source": [
        "# re-size all the images to this\n",
        "IMAGE_SIZE = [224, 224]\n"
      ],
      "execution_count": 7,
      "outputs": []
    },
    {
      "cell_type": "code",
      "metadata": {
        "colab": {
          "base_uri": "https://localhost:8080/"
        },
        "id": "ptVWT_dZhs1f",
        "outputId": "a3f5636b-5c44-4b8e-e67d-28766cc972a8"
      },
      "source": [
        "# Import the Vgg 16 library as shown below and add preprocessing layer to the front of VGG\n",
        "# Here we will be using imagenet weights\n",
        "\n",
        "vgg16 = VGG16(input_shape=IMAGE_SIZE + [3], weights='imagenet', include_top=False)\n",
        "\n",
        "\n"
      ],
      "execution_count": 8,
      "outputs": [
        {
          "output_type": "stream",
          "text": [
            "Downloading data from https://storage.googleapis.com/tensorflow/keras-applications/vgg16/vgg16_weights_tf_dim_ordering_tf_kernels_notop.h5\n",
            "58892288/58889256 [==============================] - 1s 0us/step\n"
          ],
          "name": "stdout"
        }
      ]
    },
    {
      "cell_type": "code",
      "metadata": {
        "colab": {
          "base_uri": "https://localhost:8080/"
        },
        "id": "J9d5_R4Uhs1g",
        "outputId": "96016b7c-611b-495a-83df-f08e851f8a59"
      },
      "source": [
        "vgg16.summary()"
      ],
      "execution_count": 9,
      "outputs": [
        {
          "output_type": "stream",
          "text": [
            "Model: \"vgg16\"\n",
            "_________________________________________________________________\n",
            "Layer (type)                 Output Shape              Param #   \n",
            "=================================================================\n",
            "input_1 (InputLayer)         [(None, 224, 224, 3)]     0         \n",
            "_________________________________________________________________\n",
            "block1_conv1 (Conv2D)        (None, 224, 224, 64)      1792      \n",
            "_________________________________________________________________\n",
            "block1_conv2 (Conv2D)        (None, 224, 224, 64)      36928     \n",
            "_________________________________________________________________\n",
            "block1_pool (MaxPooling2D)   (None, 112, 112, 64)      0         \n",
            "_________________________________________________________________\n",
            "block2_conv1 (Conv2D)        (None, 112, 112, 128)     73856     \n",
            "_________________________________________________________________\n",
            "block2_conv2 (Conv2D)        (None, 112, 112, 128)     147584    \n",
            "_________________________________________________________________\n",
            "block2_pool (MaxPooling2D)   (None, 56, 56, 128)       0         \n",
            "_________________________________________________________________\n",
            "block3_conv1 (Conv2D)        (None, 56, 56, 256)       295168    \n",
            "_________________________________________________________________\n",
            "block3_conv2 (Conv2D)        (None, 56, 56, 256)       590080    \n",
            "_________________________________________________________________\n",
            "block3_conv3 (Conv2D)        (None, 56, 56, 256)       590080    \n",
            "_________________________________________________________________\n",
            "block3_pool (MaxPooling2D)   (None, 28, 28, 256)       0         \n",
            "_________________________________________________________________\n",
            "block4_conv1 (Conv2D)        (None, 28, 28, 512)       1180160   \n",
            "_________________________________________________________________\n",
            "block4_conv2 (Conv2D)        (None, 28, 28, 512)       2359808   \n",
            "_________________________________________________________________\n",
            "block4_conv3 (Conv2D)        (None, 28, 28, 512)       2359808   \n",
            "_________________________________________________________________\n",
            "block4_pool (MaxPooling2D)   (None, 14, 14, 512)       0         \n",
            "_________________________________________________________________\n",
            "block5_conv1 (Conv2D)        (None, 14, 14, 512)       2359808   \n",
            "_________________________________________________________________\n",
            "block5_conv2 (Conv2D)        (None, 14, 14, 512)       2359808   \n",
            "_________________________________________________________________\n",
            "block5_conv3 (Conv2D)        (None, 14, 14, 512)       2359808   \n",
            "_________________________________________________________________\n",
            "block5_pool (MaxPooling2D)   (None, 7, 7, 512)         0         \n",
            "=================================================================\n",
            "Total params: 14,714,688\n",
            "Trainable params: 14,714,688\n",
            "Non-trainable params: 0\n",
            "_________________________________________________________________\n"
          ],
          "name": "stdout"
        }
      ]
    },
    {
      "cell_type": "code",
      "metadata": {
        "id": "cy5VDm4rhs1g"
      },
      "source": [
        "# don't train existing weights\n",
        "for layer in vgg16.layers:\n",
        "    layer.trainable = False"
      ],
      "execution_count": 10,
      "outputs": []
    },
    {
      "cell_type": "code",
      "metadata": {
        "id": "CTpcW-WIhs1g",
        "colab": {
          "base_uri": "https://localhost:8080/"
        },
        "outputId": "ed9af052-6cc8-42d9-c262-2cd339593930"
      },
      "source": [
        "  # useful for getting number of output classes\n",
        "folders = glob(\"/content/gdrive/My Drive/dataset/training_set/*\")\n",
        "folders"
      ],
      "execution_count": 11,
      "outputs": [
        {
          "output_type": "execute_result",
          "data": {
            "text/plain": [
              "['/content/gdrive/My Drive/dataset/training_set/cats',\n",
              " '/content/gdrive/My Drive/dataset/training_set/dogs']"
            ]
          },
          "metadata": {
            "tags": []
          },
          "execution_count": 11
        }
      ]
    },
    {
      "cell_type": "code",
      "metadata": {
        "id": "tENLNmDZhs1h"
      },
      "source": [
        "# our layers - you can add more if you want\n",
        "x = Flatten()(vgg16.output)"
      ],
      "execution_count": 12,
      "outputs": []
    },
    {
      "cell_type": "code",
      "metadata": {
        "id": "5jdJIIvahs1h"
      },
      "source": [
        "prediction = Dense(len(folders), activation='softmax')(x)\n",
        "\n",
        "# create a model object\n",
        "model = Model(inputs=vgg16.input, outputs=prediction)"
      ],
      "execution_count": 13,
      "outputs": []
    },
    {
      "cell_type": "code",
      "metadata": {
        "id": "lO5fvnC7hs1h",
        "colab": {
          "base_uri": "https://localhost:8080/"
        },
        "outputId": "5ad6c31b-b85d-461f-b4c5-5568acc2ce35"
      },
      "source": [
        "\n",
        "# view the structure of the model\n",
        "model.summary()\n"
      ],
      "execution_count": 14,
      "outputs": [
        {
          "output_type": "stream",
          "text": [
            "Model: \"model\"\n",
            "_________________________________________________________________\n",
            "Layer (type)                 Output Shape              Param #   \n",
            "=================================================================\n",
            "input_1 (InputLayer)         [(None, 224, 224, 3)]     0         \n",
            "_________________________________________________________________\n",
            "block1_conv1 (Conv2D)        (None, 224, 224, 64)      1792      \n",
            "_________________________________________________________________\n",
            "block1_conv2 (Conv2D)        (None, 224, 224, 64)      36928     \n",
            "_________________________________________________________________\n",
            "block1_pool (MaxPooling2D)   (None, 112, 112, 64)      0         \n",
            "_________________________________________________________________\n",
            "block2_conv1 (Conv2D)        (None, 112, 112, 128)     73856     \n",
            "_________________________________________________________________\n",
            "block2_conv2 (Conv2D)        (None, 112, 112, 128)     147584    \n",
            "_________________________________________________________________\n",
            "block2_pool (MaxPooling2D)   (None, 56, 56, 128)       0         \n",
            "_________________________________________________________________\n",
            "block3_conv1 (Conv2D)        (None, 56, 56, 256)       295168    \n",
            "_________________________________________________________________\n",
            "block3_conv2 (Conv2D)        (None, 56, 56, 256)       590080    \n",
            "_________________________________________________________________\n",
            "block3_conv3 (Conv2D)        (None, 56, 56, 256)       590080    \n",
            "_________________________________________________________________\n",
            "block3_pool (MaxPooling2D)   (None, 28, 28, 256)       0         \n",
            "_________________________________________________________________\n",
            "block4_conv1 (Conv2D)        (None, 28, 28, 512)       1180160   \n",
            "_________________________________________________________________\n",
            "block4_conv2 (Conv2D)        (None, 28, 28, 512)       2359808   \n",
            "_________________________________________________________________\n",
            "block4_conv3 (Conv2D)        (None, 28, 28, 512)       2359808   \n",
            "_________________________________________________________________\n",
            "block4_pool (MaxPooling2D)   (None, 14, 14, 512)       0         \n",
            "_________________________________________________________________\n",
            "block5_conv1 (Conv2D)        (None, 14, 14, 512)       2359808   \n",
            "_________________________________________________________________\n",
            "block5_conv2 (Conv2D)        (None, 14, 14, 512)       2359808   \n",
            "_________________________________________________________________\n",
            "block5_conv3 (Conv2D)        (None, 14, 14, 512)       2359808   \n",
            "_________________________________________________________________\n",
            "block5_pool (MaxPooling2D)   (None, 7, 7, 512)         0         \n",
            "_________________________________________________________________\n",
            "flatten (Flatten)            (None, 25088)             0         \n",
            "_________________________________________________________________\n",
            "dense (Dense)                (None, 2)                 50178     \n",
            "=================================================================\n",
            "Total params: 14,764,866\n",
            "Trainable params: 50,178\n",
            "Non-trainable params: 14,714,688\n",
            "_________________________________________________________________\n"
          ],
          "name": "stdout"
        }
      ]
    },
    {
      "cell_type": "code",
      "metadata": {
        "id": "szZa9YvRhs1h"
      },
      "source": [
        "# tell the model what cost and optimization method to use\n",
        "model.compile(\n",
        "  loss='categorical_crossentropy',\n",
        "  optimizer='adam',\n",
        "  metrics=['accuracy']\n",
        ")\n"
      ],
      "execution_count": 15,
      "outputs": []
    },
    {
      "cell_type": "code",
      "metadata": {
        "id": "rNZTpiE1hs1i"
      },
      "source": [
        "# Use the Image Data Generator to import the images from the dataset\n",
        "from tensorflow.keras.preprocessing.image import ImageDataGenerator\n",
        "\n",
        "train_datagen = ImageDataGenerator(rescale = 1./255,\n",
        "                                   shear_range = 0.2,\n",
        "                                   zoom_range = 0.2,\n",
        "                                   horizontal_flip = True)\n",
        "\n",
        "test_datagen = ImageDataGenerator(rescale = 1./255)"
      ],
      "execution_count": 16,
      "outputs": []
    },
    {
      "cell_type": "code",
      "metadata": {
        "id": "FkupgI8rhs1i",
        "colab": {
          "base_uri": "https://localhost:8080/"
        },
        "outputId": "06ff794d-04bc-43d3-a5a4-c6c7ff51b62c"
      },
      "source": [
        "# Make sure you provide the same target size as initialied for the image size\n",
        "training_set = train_datagen.flow_from_directory(\"/content/gdrive/My Drive/dataset/training_set/\",\n",
        "                                                 target_size = (224, 224),\n",
        "                                                 batch_size = 32,\n",
        "                                                 class_mode = 'categorical')"
      ],
      "execution_count": 17,
      "outputs": [
        {
          "output_type": "stream",
          "text": [
            "Found 8006 images belonging to 2 classes.\n"
          ],
          "name": "stdout"
        }
      ]
    },
    {
      "cell_type": "code",
      "metadata": {
        "id": "EnVazew4hs1i",
        "colab": {
          "base_uri": "https://localhost:8080/"
        },
        "outputId": "b2146778-5d52-45e9-d929-adaea3449cb1"
      },
      "source": [
        "test_set = test_datagen.flow_from_directory(\"/content/gdrive/My Drive/dataset/test_set/\",\n",
        "                                            target_size = (224, 224),\n",
        "                                            batch_size = 32,\n",
        "                                            class_mode = 'categorical')"
      ],
      "execution_count": 18,
      "outputs": [
        {
          "output_type": "stream",
          "text": [
            "Found 2023 images belonging to 2 classes.\n"
          ],
          "name": "stdout"
        }
      ]
    },
    {
      "cell_type": "code",
      "metadata": {
        "id": "wXRKkwuXhs1i",
        "colab": {
          "base_uri": "https://localhost:8080/"
        },
        "outputId": "4d4db27a-5088-46c2-de75-a9b2ac7053c4"
      },
      "source": [
        "# fit the model\n",
        "# Run the cell. It will take some time to execute\n",
        "r = model.fit_generator(\n",
        "  training_set,\n",
        "  validation_data=test_set,\n",
        "  epochs=20,\n",
        "  steps_per_epoch=len(training_set),\n",
        "  validation_steps=len(test_set)\n",
        ")"
      ],
      "execution_count": 20,
      "outputs": [
        {
          "output_type": "stream",
          "text": [
            "/usr/local/lib/python3.6/dist-packages/tensorflow/python/keras/engine/training.py:1844: UserWarning: `Model.fit_generator` is deprecated and will be removed in a future version. Please use `Model.fit`, which supports generators.\n",
            "  warnings.warn('`Model.fit_generator` is deprecated and '\n"
          ],
          "name": "stderr"
        },
        {
          "output_type": "stream",
          "text": [
            "Epoch 1/20\n",
            "251/251 [==============================] - 556s 2s/step - loss: 0.2076 - accuracy: 0.9162 - val_loss: 0.1745 - val_accuracy: 0.9303\n",
            "Epoch 2/20\n",
            "251/251 [==============================] - 126s 503ms/step - loss: 0.1861 - accuracy: 0.9228 - val_loss: 0.1882 - val_accuracy: 0.9303\n",
            "Epoch 3/20\n",
            "251/251 [==============================] - 126s 502ms/step - loss: 0.1897 - accuracy: 0.9246 - val_loss: 0.2404 - val_accuracy: 0.9179\n",
            "Epoch 4/20\n",
            "251/251 [==============================] - 126s 501ms/step - loss: 0.1423 - accuracy: 0.9432 - val_loss: 0.2327 - val_accuracy: 0.9204\n",
            "Epoch 5/20\n",
            "251/251 [==============================] - 127s 504ms/step - loss: 0.1525 - accuracy: 0.9424 - val_loss: 0.2410 - val_accuracy: 0.9219\n",
            "Epoch 6/20\n",
            "251/251 [==============================] - 128s 511ms/step - loss: 0.1395 - accuracy: 0.9457 - val_loss: 0.2008 - val_accuracy: 0.9352\n",
            "Epoch 7/20\n",
            "251/251 [==============================] - 129s 514ms/step - loss: 0.1281 - accuracy: 0.9493 - val_loss: 0.5223 - val_accuracy: 0.8507\n",
            "Epoch 8/20\n",
            "251/251 [==============================] - 127s 507ms/step - loss: 0.1208 - accuracy: 0.9522 - val_loss: 0.2250 - val_accuracy: 0.9298\n",
            "Epoch 9/20\n",
            "251/251 [==============================] - 127s 507ms/step - loss: 0.1275 - accuracy: 0.9517 - val_loss: 0.2286 - val_accuracy: 0.9308\n",
            "Epoch 10/20\n",
            "251/251 [==============================] - 126s 501ms/step - loss: 0.1127 - accuracy: 0.9542 - val_loss: 0.2507 - val_accuracy: 0.9288\n",
            "Epoch 11/20\n",
            "251/251 [==============================] - 126s 502ms/step - loss: 0.0986 - accuracy: 0.9608 - val_loss: 0.3034 - val_accuracy: 0.9145\n",
            "Epoch 12/20\n",
            "251/251 [==============================] - 126s 502ms/step - loss: 0.0955 - accuracy: 0.9629 - val_loss: 0.2544 - val_accuracy: 0.9254\n",
            "Epoch 13/20\n",
            "251/251 [==============================] - 125s 499ms/step - loss: 0.0950 - accuracy: 0.9635 - val_loss: 0.2834 - val_accuracy: 0.9268\n",
            "Epoch 14/20\n",
            "251/251 [==============================] - 125s 499ms/step - loss: 0.0878 - accuracy: 0.9669 - val_loss: 0.2684 - val_accuracy: 0.9288\n",
            "Epoch 15/20\n",
            "251/251 [==============================] - 128s 510ms/step - loss: 0.0903 - accuracy: 0.9632 - val_loss: 0.2482 - val_accuracy: 0.9367\n",
            "Epoch 16/20\n",
            "251/251 [==============================] - 125s 497ms/step - loss: 0.0892 - accuracy: 0.9654 - val_loss: 0.2569 - val_accuracy: 0.9338\n",
            "Epoch 17/20\n",
            "251/251 [==============================] - 125s 498ms/step - loss: 0.0949 - accuracy: 0.9665 - val_loss: 0.2703 - val_accuracy: 0.9293\n",
            "Epoch 18/20\n",
            "251/251 [==============================] - 125s 497ms/step - loss: 0.0852 - accuracy: 0.9668 - val_loss: 0.2932 - val_accuracy: 0.9268\n",
            "Epoch 19/20\n",
            "251/251 [==============================] - 129s 512ms/step - loss: 0.0797 - accuracy: 0.9691 - val_loss: 0.2809 - val_accuracy: 0.9323\n",
            "Epoch 20/20\n",
            "251/251 [==============================] - 127s 505ms/step - loss: 0.0780 - accuracy: 0.9709 - val_loss: 0.2748 - val_accuracy: 0.9367\n"
          ],
          "name": "stdout"
        }
      ]
    },
    {
      "cell_type": "code",
      "metadata": {
        "id": "_1GTmoJGhs1j"
      },
      "source": [
        ""
      ],
      "execution_count": null,
      "outputs": []
    },
    {
      "cell_type": "code",
      "metadata": {
        "id": "m72vQTPehs1j",
        "colab": {
          "base_uri": "https://localhost:8080/",
          "height": 531
        },
        "outputId": "d306aa92-42a4-4758-cbb7-0efd10bf7d89"
      },
      "source": [
        "# plot the loss\n",
        "import matplotlib.pyplot as plt\n",
        "plt.plot(r.history['loss'], label='train loss')\n",
        "plt.plot(r.history['val_loss'], label='val loss')\n",
        "plt.legend()\n",
        "plt.show()\n",
        "plt.savefig('LossVal_loss')\n",
        "\n",
        "# plot the accuracy\n",
        "plt.plot(r.history['accuracy'], label='train acc')\n",
        "plt.plot(r.history['val_accuracy'], label='val acc')\n",
        "plt.legend()\n",
        "plt.show()\n",
        "plt.savefig('AccVal_acc')"
      ],
      "execution_count": 21,
      "outputs": [
        {
          "output_type": "display_data",
          "data": {
            "image/png": "[encoded data removed]",
            "text/plain": [
              "<Figure size 432x288 with 1 Axes>"
            ]
          },
          "metadata": {
            "tags": [],
            "needs_background": "light"
          }
        },
        {
          "output_type": "display_data",
          "data": {
            "image/png": "[encoded data removed]",
            "text/plain": [
              "<Figure size 432x288 with 1 Axes>"
            ]
          },
          "metadata": {
            "tags": [],
            "needs_background": "light"
          }
        },
        {
          "output_type": "display_data",
          "data": {
            "text/plain": [
              "<Figure size 432x288 with 0 Axes>"
            ]
          },
          "metadata": {
            "tags": []
          }
        }
      ]
    },
    {
      "cell_type": "code",
      "metadata": {
        "id": "9VJSlkedhs1j"
      },
      "source": [
        "# save it as a h5 file\n",
        "\n",
        "\n",
        "from tensorflow.keras.models import load_model\n",
        "\n",
        "model.save('model_vgg16.h5')"
      ],
      "execution_count": 22,
      "outputs": []
    },
    {
      "cell_type": "code",
      "metadata": {
        "id": "ls5OB1BFhs1j"
      },
      "source": [
        ""
      ],
      "execution_count": null,
      "outputs": []
    },
    {
      "cell_type": "code",
      "metadata": {
        "id": "2lNuXuqJhs1j"
      },
      "source": [
        "\n",
        "y_pred = model.predict(test_set)\n"
      ],
      "execution_count": 23,
      "outputs": []
    },
    {
      "cell_type": "code",
      "metadata": {
        "id": "Qf69r8-Phs1k",
        "colab": {
          "base_uri": "https://localhost:8080/"
        },
        "outputId": "d25f5256-b22d-4ddb-d5ec-879d3440ceec"
      },
      "source": [
        "y_pred"
      ],
      "execution_count": 24,
      "outputs": [
        {
          "output_type": "execute_result",
          "data": {
            "text/plain": [
              "array([[2.4177230e-06, 9.9999762e-01],\n",
              "       [1.2394161e-10, 1.0000000e+00],\n",
              "       [2.5241240e-03, 9.9747592e-01],\n",
              "       ...,\n",
              "       [1.3409354e-02, 9.8659062e-01],\n",
              "       [1.0000000e+00, 2.8834798e-08],\n",
              "       [2.7569598e-01, 7.2430402e-01]], dtype=float32)"
            ]
          },
          "metadata": {
            "tags": []
          },
          "execution_count": 24
        }
      ]
    },
    {
      "cell_type": "code",
      "metadata": {
        "id": "Ak4PWWwwhs1k"
      },
      "source": [
        "import numpy as np\n",
        "y_pred = np.argmax(y_pred, axis=1)"
      ],
      "execution_count": 25,
      "outputs": []
    },
    {
      "cell_type": "code",
      "metadata": {
        "id": "8V8hxB6nhs1k",
        "colab": {
          "base_uri": "https://localhost:8080/"
        },
        "outputId": "171d5631-96c0-4f1d-d273-4d3055018ff1"
      },
      "source": [
        "y_pred"
      ],
      "execution_count": 26,
      "outputs": [
        {
          "output_type": "execute_result",
          "data": {
            "text/plain": [
              "array([1, 1, 1, ..., 1, 0, 1])"
            ]
          },
          "metadata": {
            "tags": []
          },
          "execution_count": 26
        }
      ]
    },
    {
      "cell_type": "code",
      "metadata": {
        "id": "z8dZ8CH7hs1k"
      },
      "source": [
        ""
      ],
      "execution_count": null,
      "outputs": []
    },
    {
      "cell_type": "code",
      "metadata": {
        "id": "012V2Rcchs1k"
      },
      "source": [
        "from tensorflow.keras.models import load_model\n",
        "from tensorflow.keras.preprocessing import image"
      ],
      "execution_count": 27,
      "outputs": []
    },
    {
      "cell_type": "code",
      "metadata": {
        "id": "ANkNqsrjhs1l"
      },
      "source": [
        "model=load_model('model_vgg16.h5')"
      ],
      "execution_count": 29,
      "outputs": []
    },
    {
      "cell_type": "code",
      "metadata": {
        "id": "oDM3Bnighs1l"
      },
      "source": [
        "img=image.load_img('/content/gdrive/My Drive/dataset/test_set/cats/cat.4019.jpg',target_size=(224,224))\n",
        "\n"
      ],
      "execution_count": 32,
      "outputs": []
    },
    {
      "cell_type": "code",
      "metadata": {
        "id": "65Ujit2whs1l",
        "colab": {
          "base_uri": "https://localhost:8080/"
        },
        "outputId": "470b127c-c90a-4821-feb4-1c3b204c6116"
      },
      "source": [
        "x=image.img_to_array(img)\n",
        "x"
      ],
      "execution_count": 33,
      "outputs": [
        {
          "output_type": "execute_result",
          "data": {
            "text/plain": [
              "array([[[207., 178., 138.],\n",
              "        [208., 179., 139.],\n",
              "        [206., 177., 137.],\n",
              "        ...,\n",
              "        [208., 177., 133.],\n",
              "        [205., 174., 130.],\n",
              "        [206., 173., 130.]],\n",
              "\n",
              "       [[211., 182., 142.],\n",
              "        [212., 183., 143.],\n",
              "        [210., 181., 141.],\n",
              "        ...,\n",
              "        [207., 176., 132.],\n",
              "        [205., 174., 130.],\n",
              "        [206., 173., 130.]],\n",
              "\n",
              "       [[211., 182., 142.],\n",
              "        [212., 183., 143.],\n",
              "        [210., 181., 141.],\n",
              "        ...,\n",
              "        [207., 176., 132.],\n",
              "        [205., 174., 130.],\n",
              "        [206., 173., 130.]],\n",
              "\n",
              "       ...,\n",
              "\n",
              "       [[190., 120., 131.],\n",
              "        [204., 134., 145.],\n",
              "        [191., 121., 132.],\n",
              "        ...,\n",
              "        [216., 183., 132.],\n",
              "        [214., 181., 130.],\n",
              "        [211., 179., 130.]],\n",
              "\n",
              "       [[190., 118., 130.],\n",
              "        [199., 127., 139.],\n",
              "        [189., 117., 129.],\n",
              "        ...,\n",
              "        [213., 181., 130.],\n",
              "        [211., 179., 128.],\n",
              "        [209., 177., 128.]],\n",
              "\n",
              "       [[187., 115., 127.],\n",
              "        [177., 105., 117.],\n",
              "        [185., 113., 125.],\n",
              "        ...,\n",
              "        [211., 179., 128.],\n",
              "        [208., 176., 125.],\n",
              "        [207., 175., 124.]]], dtype=float32)"
            ]
          },
          "metadata": {
            "tags": []
          },
          "execution_count": 33
        }
      ]
    },
    {
      "cell_type": "code",
      "metadata": {
        "id": "DmSgQE8Ghs1l",
        "colab": {
          "base_uri": "https://localhost:8080/"
        },
        "outputId": "75357e42-31c8-4eb1-9061-5c8d995813d1"
      },
      "source": [
        "x.shape"
      ],
      "execution_count": 34,
      "outputs": [
        {
          "output_type": "execute_result",
          "data": {
            "text/plain": [
              "(224, 224, 3)"
            ]
          },
          "metadata": {
            "tags": []
          },
          "execution_count": 34
        }
      ]
    },
    {
      "cell_type": "code",
      "metadata": {
        "id": "CezPtmshhs1l"
      },
      "source": [
        "x=x/255"
      ],
      "execution_count": 35,
      "outputs": []
    },
    {
      "cell_type": "code",
      "metadata": {
        "id": "TVR5y_3_hs1l",
        "colab": {
          "base_uri": "https://localhost:8080/"
        },
        "outputId": "0a2e7e2b-1cff-4558-c045-f2490efa17a9"
      },
      "source": [
        "x=np.expand_dims(x,axis=0)\n",
        "img_data=preprocess_input(x)\n",
        "img_data.shape"
      ],
      "execution_count": 36,
      "outputs": [
        {
          "output_type": "execute_result",
          "data": {
            "text/plain": [
              "(1, 224, 224, 3)"
            ]
          },
          "metadata": {
            "tags": []
          },
          "execution_count": 36
        }
      ]
    },
    {
      "cell_type": "code",
      "metadata": {
        "id": "7XQIBrmRhs1m",
        "colab": {
          "base_uri": "https://localhost:8080/"
        },
        "outputId": "8a4a7c04-f8b5-4c5d-cbe5-657f9fb796d2"
      },
      "source": [
        "model.predict(img_data)"
      ],
      "execution_count": 37,
      "outputs": [
        {
          "output_type": "execute_result",
          "data": {
            "text/plain": [
              "array([[0.99805105, 0.00194892]], dtype=float32)"
            ]
          },
          "metadata": {
            "tags": []
          },
          "execution_count": 37
        }
      ]
    },
    {
      "cell_type": "code",
      "metadata": {
        "id": "vbxZgoKJhs1m"
      },
      "source": [
        "a=np.argmax(model.predict(img_data), axis=1)"
      ],
      "execution_count": 38,
      "outputs": []
    },
    {
      "cell_type": "code",
      "metadata": {
        "id": "JxtA_ZGDhs1m",
        "colab": {
          "base_uri": "https://localhost:8080/"
        },
        "outputId": "bdf84c85-6f0a-4c05-829e-e12b4f54ab74"
      },
      "source": [
        "a==1"
      ],
      "execution_count": 39,
      "outputs": [
        {
          "output_type": "execute_result",
          "data": {
            "text/plain": [
              "array([False])"
            ]
          },
          "metadata": {
            "tags": []
          },
          "execution_count": 39
        }
      ]
    },
    {
      "cell_type": "code",
      "metadata": {
        "id": "cYrq-RUqhs1m"
      },
      "source": [
        ""
      ],
      "execution_count": null,
      "outputs": []
    }
  ]
}